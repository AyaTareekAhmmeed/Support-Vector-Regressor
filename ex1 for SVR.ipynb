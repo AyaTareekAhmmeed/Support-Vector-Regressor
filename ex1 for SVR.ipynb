{
 "cells": [
  {
   "cell_type": "code",
   "execution_count": 1,
   "id": "2f58294e",
   "metadata": {},
   "outputs": [],
   "source": [
    "#Import Libraries\n",
    "from sklearn.datasets import load_boston\n",
    "from sklearn.model_selection import train_test_split\n",
    "from sklearn.svm import SVR #for using SVR \n",
    "#calculating error 'error for regretion'\n",
    "from sklearn.metrics import mean_absolute_error \n",
    "from sklearn.metrics import mean_squared_error \n",
    "from sklearn.metrics import median_absolute_error"
   ]
  },
  {
   "cell_type": "code",
   "execution_count": 2,
   "id": "c0b09ebd",
   "metadata": {},
   "outputs": [],
   "source": [
    "#load boston data\n",
    "\n",
    "BostonData = load_boston()\n",
    "\n",
    "#X Data\n",
    "X = BostonData.data\n",
    "\n",
    "#y Data\n",
    "y = BostonData.target"
   ]
  },
  {
   "cell_type": "code",
   "execution_count": 3,
   "id": "1e815e6c",
   "metadata": {},
   "outputs": [],
   "source": [
    "#Splitting data\n",
    "\n",
    "X_train, X_test, y_train, y_test = train_test_split(X, y, test_size=0.33, random_state=44, shuffle =True)\n"
   ]
  },
  {
   "cell_type": "code",
   "execution_count": 5,
   "id": "69172b99",
   "metadata": {},
   "outputs": [
    {
     "name": "stdout",
     "output_type": "stream",
     "text": [
      "SVRModel Train Score is :  0.2380405588343888\n",
      "SVRModel Test Score is :  0.11039119528544172\n"
     ]
    }
   ],
   "source": [
    "#Applying SVR Model \n",
    "\n",
    "'''\n",
    "sklearn.svm.SVR(kernel=’rbf’, degree=3, gamma=’auto_deprecated’, coef0=0.0, tol=0.001,\n",
    "                C=1.0, epsilon=0.1, shrinking=True, cache_size=200, verbose=False,max_iter=-1)\n",
    "'''\n",
    "\n",
    "SVRModel = SVR(C = 1.0 ,epsilon=0.1,kernel = 'rbf') # it also can be : linear, poly, rbf, sigmoid, precomputed\n",
    "SVRModel.fit(X_train, y_train)\n",
    "\n",
    "#Calculating Details\n",
    "print('SVRModel Train Score is : ' , SVRModel.score(X_train, y_train))\n",
    "print('SVRModel Test Score is : ' , SVRModel.score(X_test, y_test))"
   ]
  },
  {
   "cell_type": "code",
   "execution_count": 10,
   "id": "5603367f",
   "metadata": {},
   "outputs": [
    {
     "name": "stdout",
     "output_type": "stream",
     "text": [
      "Predicted Value for SVRModel is :\n",
      " [22.10354719 22.51213279 15.98842016 24.33401156 14.13096688 22.15599591\n",
      " 15.85450016 22.25423419 24.31800599 15.47873103]\n",
      "Actual y value is :\n",
      " [17.8 21.5 21.2 32.4 10.9 31.7 21.4 24.3 29.1 25. ]\n"
     ]
    }
   ],
   "source": [
    "#Calculating Prediction\n",
    "y_pred = SVRModel.predict(X_test)\n",
    "print('Predicted Value for SVRModel is :\\n' , y_pred[:10])\n",
    "\n",
    "#print actual y\n",
    "print('Actual y value is :\\n', y_test[:10])"
   ]
  },
  {
   "cell_type": "code",
   "execution_count": 11,
   "id": "95e08a5f",
   "metadata": {},
   "outputs": [
    {
     "name": "stdout",
     "output_type": "stream",
     "text": [
      "Mean Absolute Error Value is :  5.954978726248467\n",
      "Mean Squared Error Value is :  87.50000239825312\n",
      "Median Squared Error Value is :  3.6321312320388905\n"
     ]
    }
   ],
   "source": [
    "#Calculating erorr score \"only for regression\"\n",
    "#Calculating Mean Absolute Error\n",
    "MAEValue = mean_absolute_error(y_test, y_pred, multioutput='uniform_average') # it can be raw_values\n",
    "print('Mean Absolute Error Value is : ', MAEValue)\n",
    "\n",
    "#----------------------------------------------------\n",
    "#Calculating Mean Squared Error\n",
    "MSEValue = mean_squared_error(y_test, y_pred, multioutput='uniform_average') # it can be raw_values\n",
    "print('Mean Squared Error Value is : ', MSEValue)\n",
    "\n",
    "#----------------------------------------------------\n",
    "#Calculating Median Squared Error\n",
    "MdSEValue = median_absolute_error(y_test, y_pred)\n",
    "print('Median Squared Error Value is : ', MdSEValue )"
   ]
  }
 ],
 "metadata": {
  "kernelspec": {
   "display_name": "Python 3",
   "language": "python",
   "name": "python3"
  },
  "language_info": {
   "codemirror_mode": {
    "name": "ipython",
    "version": 3
   },
   "file_extension": ".py",
   "mimetype": "text/x-python",
   "name": "python",
   "nbconvert_exporter": "python",
   "pygments_lexer": "ipython3",
   "version": "3.8.8"
  }
 },
 "nbformat": 4,
 "nbformat_minor": 5
}
